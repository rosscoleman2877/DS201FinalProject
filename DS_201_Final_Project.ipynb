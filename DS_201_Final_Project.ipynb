{
  "nbformat": 4,
  "nbformat_minor": 0,
  "metadata": {
    "colab": {
      "name": "DS 201 Final Project",
      "provenance": [],
      "collapsed_sections": []
    },
    "kernelspec": {
      "name": "python3",
      "display_name": "Python 3"
    },
    "language_info": {
      "name": "python"
    }
  },
  "cells": [
    {
      "cell_type": "markdown",
      "source": [
        "Before the Data Science Steps can be followed, we first must clone the GitHub repository. The code below mounts the Google Drive to our Github page that hosts the project. "
      ],
      "metadata": {
        "id": "LoPw9LSjiLtk"
      }
    },
    {
      "cell_type": "code",
      "source": [
        "#clone the github repository\n",
        "Use_Google_Drive= False #@param {type:\"boolean\"}\n",
        "\n",
        "if Use_Google_Drive:\n",
        "    import os\n",
        "    from google.colab import drive \n",
        "\n",
        "    drive.mount('/content/gdrive',force_remount=True)\n",
        "\n",
        "    Working_Directory = 'My Drive' #@param {type:\"string\"}\n",
        "    wd=\"/content/gdrive/\"+Working_Directory\n",
        "    os.chdir(wd)\n",
        "\n",
        "    !git clone https://github.com/mmccormack12/Clayton_Kershaw_Pitching_Final_Project.io\n",
        "    \n",
        "    %cd pard187.github.io/\n",
        "    dirpath = os.getcwd()\n",
        "    print(\"current directory is : \" + dirpath)\n",
        "\n",
        "    \n",
        "else:\n",
        "    !git clone https://github.com/mmccormack12/Clayton_Kershaw_Pitching_Final_Project.io"
      ],
      "metadata": {
        "colab": {
          "base_uri": "https://localhost:8080/"
        },
        "id": "o3vVUEuPPyRz",
        "outputId": "3f7bf840-aeb9-4f66-8d24-7134ce115c56"
      },
      "execution_count": null,
      "outputs": [
        {
          "output_type": "stream",
          "name": "stdout",
          "text": [
            "Cloning into 'Clayton_Kershaw_Pitching_Final_Project.io'...\n",
            "warning: You appear to have cloned an empty repository.\n"
          ]
        }
      ]
    },
    {
      "cell_type": "markdown",
      "source": [
        "## **Introduction**\n",
        "\n",
        "This project aims to use the steps of the entire data science process to gain actionable insight. For this project, we are analyzing the statistics of MLB pitcher Clayton Kershaw. We aim to walk users through the following steps: Business Understanding, Data Understanding, Data Preparation, Modeling + Evaluating (EDA + Machine Learning Model Training), and Deployment. This project aims to use the insights to help Clayton Kershaw be the best possible pitcher that he can be by exploiting the data."
      ],
      "metadata": {
        "id": "-RF0oVtvAIDy"
      }
    },
    {
      "cell_type": "markdown",
      "source": [
        "## **Business Understanding**\n",
        "  In the United States, baseball is a very popular and competitive sport. In the MLB, an estimated 1,026 players compete. Outside of the MLB, making it to the MLB is a very competitive process. It is estimated that 10.5% of players advance to that level. In addition to the Major League (which is broadcasted all the time on ESPN and is what most people talk about), there are levels at which other players trying to make it to the MLB compete in. This league is referred to the Minor League. Ironically, a Lafayette alumni, JP Woodward, competes at this level. Post graduation from Lafayette, he signed with the Minor League Version of the Philadelphia Phillies. This next section of the business understanding will describe the differences between the two leagues as it is relevant for our analysis in that it validates the data we have and allows us to make sense of it from the standpoint of professional players.\n",
        "\n",
        "In the Major League, there are two leagues- the American and the National. Each league has 15 teams and three divisions. Each team has what is known as a farm system which is where players and/or teams from the minor league are advanced up to the major league. Throughout the season, MLB teams will play not only the teams in their league but will also rotate and play teams outside of it. In terms of roster size, each team in the MLB carries 25 people, which is important as it shows the spots on these teams are extremely valuable and sought after. Ironically, just today, the MLB locked out its players. This is the first time this has happened in 26 years. A lockout occurs when the teams owners lock out its players. These issues typically stem from pay and items relating to the off-season as players are not paid. During lockouts, players are only paid through their signing bonuses and they do not receive their base salaries. This is relevant for our analysis as it shows how important it for Kershaw to use our actionable insight to be the best player he can be to receive a higher signing bonus.\n",
        "  \n",
        "   As baseball is measured on an inviduals performance, understanding those statistics is not only important to find ways to increase your performance but is also crucial as it shows players ways to not get cut. Already, baseball is a very difficult sport due to the nature of the sport; requiring players to catch/hit a small little ball, on an even smaller bat, is a hard task to accomplish. The sport requires incredible hand-eye coordination which to an extent, cannot be taught. Finding ways to increase ones natural talent is a difficult task so it is important to find ways to increase the non-natural talent of a player. \n",
        "\n",
        "  At the center of this project are the statistics of Clayton Kershaw. Kershaw has played 13 seasons with the Los Angeles Dodgers and he is a left-handed starting pitcher. Recently, Kershaw is a free agent which means that he is looking for another team to sign him. This role came with him finding out that the Dodgers were not offering him a Qualifying Offer. Talks of him being signed with the Boston Red Sox are in the works however no offers and signings are on the table. This signing for Kershaw is crucial in that it could be his last big-time contract as he is aging out and has earned more than enough income to survive. Spotrac estimated Kershaw earned a whopping $31 million dollars this past season. Additionally, Kershaw has been injured numerous times, which makes understanding his specific statistics so important. \n",
        "\n",
        "  For this project, we are analyzing Kershaw's pitching statistics in 2013. We chose to analyze this year as it had the most observations and was a year where Kershaw was not injured. For us, this makes analyzing his statistics easier as we can rule out other reasons for why he performed the way he did. Additionally in this year, Kershaw was a recipient of the Cy Young award, which was given to him for being the best pitcher in the National League. Understanding Kershaw's statistics are of great importance as it can help guide him to understand where he can be a better pitcher and help him to get a new contract with a highly-ranked team. \n",
        "\n",
        "  In addition to this project helping Kershaw to be the best pitcher he can be, our models can also help other pitchers understand what is most important about their pitch. We can help to answer the question of what aspects of a pitch most lead to a positive result for the pitcher. There are many different variables in our dataset that can help us with this, such as how fast the pitch is, how much spin is put on the pitch, and more. These results could change the way a pitcher trains, how much time he spends in the gym versus on the pitching mound, and what parts of his pitches he focuses on more.\n",
        "\n",
        "  Baseball analytics is one of the fastest growing topics in the entire world. The use of analytics has revolutionized the baseball world to the point where now each baseball team has their own analytics department. This type of project is what each baseball team performs very often, all with the exact same goal: \"What variables do we need to leverage in order to create the best baseball team we possibly can?\n",
        "\n",
        "![Unknown.jpeg](data:image/jpeg;base64,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)"
      ],
      "metadata": {
        "id": "dVaRAxCX8tmn"
      }
    },
    {
      "cell_type": "markdown",
      "source": [
        "## **Data Understanding**\n",
        "### Data Description, Variables, and Type: \n",
        "\n",
        "### Description of Data: \n",
        "\n",
        "This data set contains pitch-by-pitch data for the MLB baseball player Clatyon Kershaw in the 2013 season. This data set contains 3,402 observations with 24 different variables. In this year, Clayton won the Cy Young award as the best pitcher in the National League. The variables within this dataset are measured using Major League Baseball's PITCHf/x system that uses camera systems in each ballpark to track characteristics of each pitch thrown.\n",
        "\n",
        "The data was scraped from the MLB GameDay website (http://gd2.mlb.com/components/game/mlb/) using pitchRx\n",
        "\n",
        "**BatterNumber:** Number of batters faced so far that game. The type of data for this variable is ratio. \n",
        "\n",
        "**Outcome:** One of 14 possible results for a pitch (e.g. Ball, Ball In Dirt, Called Strike, ..., Swinging Strike (Blocked). The data type for this variable is nominal.\n",
        "\n",
        "**Class:** One of three classifications (B=ball, S=strike, or X=in play). The data type for this variable is nominal.\n",
        "\n",
        "**Result:** From pitcher's perspective (Neg=ball or hit, Pos=strike or out).The data type for this variable is ordinal.\n",
        "\n",
        "**Swing:** Did the batter swing at the pitch? (No or Yes). The data type for this variable is nominal. \n",
        "\n",
        "**Time:** Date and time of the pitch (format yyyy-mm-ddThh:mm:ssZ). The data type for this variable is interval. \n",
        "\n",
        "**StartSpeed:** Speed leaving the pitcher's hand (in mph). The data type of this variable is ratio. \n",
        "\n",
        "**EndSpeed:** Speed crossing home plate (in mph). The data type for this variable is ratio. \n",
        "\n",
        "**HDev:** Horizontal movement (inches). The data type for this variable is ratio. \n",
        "\n",
        "**VDev:** Vertical movement (inches). The data type for this variable is ratio. \n",
        "\n",
        "**HPos:** Horizontal position at home plate (inches from center, positive is catcher's right). The data type for this variable is ratio. \n",
        "\n",
        "**VPos:** Vertical position at home plate (inches above the ground).The data type for this variable is ratio. \n",
        "\n",
        "**PitchType:** Code for pitch type (CH=changeup, CU=curve, FF=fastball, or SL=slider). The data type for this variable is nominal. \n",
        "\n",
        "**Zone:** 1-9 in theoretical strike zone (upper left to lower right), 11-14 are out of strike zone. The data type for this variable is ordinal. \n",
        "\n",
        "**Nasty:** A measure on a 0-100 scale of difficulty of the pitch to hit (100 is most difficult).The data type for this variable is ratio. \n",
        "\n",
        "**Count:**Ball strike count (0-0, 0-1, 0-2, 1-1, 1-2, 2-1, 2-2, 3-1, or 3-2).The data type for this variable is ordinal. \n",
        "\n",
        "**BallCount:** Number of balls before the pitch (0, 1, 2, or 3). The data type for this variable is ratio. \n",
        "\n",
        "**StrikeCount:** Number of strikes before the pitch (0, 1, or 2). The data type for this variable is ratio. \n",
        "\n",
        "**Inning:** Inning of the game. The data type for this variable is ordinal. \n",
        "\n",
        "**InningSide:** Portion of the inning (bottom= pitcher at home or top=pitcher away). The data type for this variable is nominal. \n",
        "\n",
        "**Outs:** Number of outs when the pitch is thrown. The data type for this variable is ratio. \n",
        "\n",
        "**BatterHand:** Batter's stance (L=left or R=right). The data type for this variable is nominal. \n",
        "\n",
        "**ABEvent:** Result of the at bat (several possibilities). The data type for this variable is nominal. \n",
        "\n",
        "**Batter:** Name of the batter faced. The data type for this variable is nominal. \n",
        "\n",
        "\n",
        "**Source:** Data scraped from the MLB GameDay website (http://gd2.mlb.com/components/game/mlb/) using pitchRx"
      ],
      "metadata": {
        "id": "cIfNaF0u8qHG"
      }
    },
    {
      "cell_type": "markdown",
      "source": [
        "## **Data Preparation**\n",
        "  Before any analysis can be done, we need to import all of the necessary packages and libraries that will be used to download the dataset and to perform an analysis on Kershaw's statistics. Additionally, this section details how we get the data to be in analysis form (i.e. cleaning the data, dropping the variables and sections we don't need, etc.)"
      ],
      "metadata": {
        "id": "K9hhWi0CFek7"
      }
    },
    {
      "cell_type": "code",
      "execution_count": null,
      "metadata": {
        "id": "N0d_U3tawQIC",
        "colab": {
          "base_uri": "https://localhost:8080/"
        },
        "outputId": "ddbf43a4-cbc5-443e-fc14-50da3891f2b8"
      },
      "outputs": [
        {
          "output_type": "stream",
          "name": "stderr",
          "text": [
            "/usr/local/lib/python3.7/dist-packages/statsmodels/tools/_testing.py:19: FutureWarning: pandas.util.testing is deprecated. Use the functions in the public API at pandas.testing instead.\n",
            "  import pandas.util.testing as tm\n"
          ]
        }
      ],
      "source": [
        "# importing all the libraries we need to run the code\n",
        "from google.colab import drive \n",
        "from google.colab import files\n",
        "import pandas as pd\n",
        "import numpy as np\n",
        "import os\n",
        "import io\n",
        "from random import random\n",
        "from random import seed\n",
        "import seaborn as sns\n",
        "from math import exp\n",
        "from sklearn.metrics import silhouette_samples, silhouette_score\n",
        "from sklearn.model_selection import train_test_split\n",
        "from sklearn.cluster import AgglomerativeClustering\n",
        "from sklearn.linear_model import LinearRegression\n",
        "from sklearn.linear_model import LogisticRegression\n",
        "from IPython.display import clear_output\n",
        "from sklearn.datasets import make_blobs\n",
        "from sklearn.cluster import KMeans\n",
        "import scipy.cluster.hierarchy as sch\n",
        "from nltk.corpus import stopwords\n",
        "from sklearn import linear_model\n",
        "import matplotlib.pyplot as plt\n",
        "from sklearn import metrics \n",
        "import statsmodels as sm\n",
        "import statsmodels.api as sm\n",
        "from sklearn.preprocessing import LabelEncoder\n",
        "from sklearn.preprocessing import OneHotEncoder\n",
        "from wordcloud import WordCloud, STOPWORDS, ImageColorGenerator\n",
        "from numpy import mean\n",
        "from numpy import std\n",
        "from pandas import read_csv\n",
        "from sklearn.preprocessing import LabelEncoder\n",
        "from sklearn.preprocessing import OneHotEncoder\n",
        "from sklearn.metrics import accuracy_score\n",
        "import tensorflow as tf\n",
        "from tensorflow import keras\n",
        "import keras\n",
        "import time\n",
        "import scipy"
      ]
    },
    {
      "cell_type": "markdown",
      "source": [
        "Now that all of the packages are imported, we can use the pd.read_csv function to read the dataset into Google Colab and Python. "
      ],
      "metadata": {
        "id": "W5Jc5ihhF39C"
      }
    },
    {
      "cell_type": "code",
      "source": [
        "data = pd.read_csv(\"https://raw.githubusercontent.com/rosscoleman2877/DS201FinalProject/main/Kershawdata.csv\")"
      ],
      "metadata": {
        "id": "vVTj_X2IwSvs"
      },
      "execution_count": null,
      "outputs": []
    },
    {
      "cell_type": "markdown",
      "source": [
        "After the data is read into Google Colab, we can now drop the columns we are not using for this analysis. In this case, it is resultpred and resultpred1. These were predicted statistics for Kershaw by the source of the data that didn't make sense to us nor contribute to our project."
      ],
      "metadata": {
        "id": "lSpHxBsn1DVt"
      }
    },
    {
      "cell_type": "code",
      "source": [
        "data = data.drop(['resultpred','resultpred1'], axis = 1)\n",
        "print(data)"
      ],
      "metadata": {
        "colab": {
          "base_uri": "https://localhost:8080/"
        },
        "id": "GdF833bMyjVp",
        "outputId": "b757f74b-f054-4a4c-b33b-292c2e9bb577"
      },
      "execution_count": null,
      "outputs": [
        {
          "output_type": "stream",
          "name": "stdout",
          "text": [
            "      Unnamed: 0  BatterNumber  ...  ABEvent           Batter\n",
            "0              1             1  ...  Pop Out      Angel Pagan\n",
            "1              2             1  ...  Pop Out      Angel Pagan\n",
            "2              3             2  ...  Pop Out    Marco Scutaro\n",
            "3              4             2  ...  Pop Out    Marco Scutaro\n",
            "4              5             2  ...  Pop Out    Marco Scutaro\n",
            "...          ...           ...  ...      ...              ...\n",
            "3397        3398            51  ...  Lineout  Troy Tulowitzki\n",
            "3398        3399            51  ...  Lineout  Troy Tulowitzki\n",
            "3399        3400            51  ...  Lineout  Troy Tulowitzki\n",
            "3400        3401            51  ...  Lineout  Troy Tulowitzki\n",
            "3401        3402            51  ...  Lineout  Troy Tulowitzki\n",
            "\n",
            "[3402 rows x 25 columns]\n"
          ]
        }
      ]
    },
    {
      "cell_type": "markdown",
      "source": [
        "## **Modeling and Evaluation**"
      ],
      "metadata": {
        "id": "4ssc9msCBhpN"
      }
    },
    {
      "cell_type": "markdown",
      "source": [
        "Now that the data is loaded and cleaned into Google Colab, we can use the describe function to look at how the data is organized and what features the data has. From this we can see the different variables that are mentioned in the Data Understanding section. In this view, we can see that all of the variables are columns; for example, EndSpeed is numeric and we can see from the rows that there is a count, mean, standard deviation, min, 25%, 50%, 75%, and the max. "
      ],
      "metadata": {
        "id": "5Ptjwd8J1EDN"
      }
    },
    {
      "cell_type": "code",
      "source": [
        "data.describe()"
      ],
      "metadata": {
        "colab": {
          "base_uri": "https://localhost:8080/",
          "height": 338
        },
        "id": "zYRhZyie8NmA",
        "outputId": "cf668260-19e3-46f0-bcc5-539d3498b4dc"
      },
      "execution_count": null,
      "outputs": [
        {
          "output_type": "execute_result",
          "data": {
            "text/html": [
              "<div>\n",
              "<style scoped>\n",
              "    .dataframe tbody tr th:only-of-type {\n",
              "        vertical-align: middle;\n",
              "    }\n",
              "\n",
              "    .dataframe tbody tr th {\n",
              "        vertical-align: top;\n",
              "    }\n",
              "\n",
              "    .dataframe thead th {\n",
              "        text-align: right;\n",
              "    }\n",
              "</style>\n",
              "<table border=\"1\" class=\"dataframe\">\n",
              "  <thead>\n",
              "    <tr style=\"text-align: right;\">\n",
              "      <th></th>\n",
              "      <th>Unnamed: 0</th>\n",
              "      <th>BatterNumber</th>\n",
              "      <th>Result</th>\n",
              "      <th>StartSpeed</th>\n",
              "      <th>EndSpeed</th>\n",
              "      <th>HDev</th>\n",
              "      <th>VDev</th>\n",
              "      <th>HPos</th>\n",
              "      <th>VPos</th>\n",
              "      <th>Zone</th>\n",
              "      <th>Nasty</th>\n",
              "      <th>BallCount</th>\n",
              "      <th>StrikeCount</th>\n",
              "      <th>Inning</th>\n",
              "      <th>Outs</th>\n",
              "    </tr>\n",
              "  </thead>\n",
              "  <tbody>\n",
              "    <tr>\n",
              "      <th>count</th>\n",
              "      <td>3402.000000</td>\n",
              "      <td>3402.000000</td>\n",
              "      <td>3402.000000</td>\n",
              "      <td>3402.000000</td>\n",
              "      <td>3402.000000</td>\n",
              "      <td>3402.000000</td>\n",
              "      <td>3402.000000</td>\n",
              "      <td>3402.000000</td>\n",
              "      <td>3402.000000</td>\n",
              "      <td>3402.000000</td>\n",
              "      <td>3402.000000</td>\n",
              "      <td>3402.000000</td>\n",
              "      <td>3402.000000</td>\n",
              "      <td>3402.000000</td>\n",
              "      <td>3402.000000</td>\n",
              "    </tr>\n",
              "    <tr>\n",
              "      <th>mean</th>\n",
              "      <td>1701.500000</td>\n",
              "      <td>29.277190</td>\n",
              "      <td>0.613169</td>\n",
              "      <td>88.170723</td>\n",
              "      <td>81.110494</td>\n",
              "      <td>-0.457128</td>\n",
              "      <td>6.326934</td>\n",
              "      <td>-2.254896</td>\n",
              "      <td>28.750342</td>\n",
              "      <td>9.182246</td>\n",
              "      <td>43.997942</td>\n",
              "      <td>0.860376</td>\n",
              "      <td>1.042034</td>\n",
              "      <td>4.092887</td>\n",
              "      <td>1.735450</td>\n",
              "    </tr>\n",
              "    <tr>\n",
              "      <th>std</th>\n",
              "      <td>982.217135</td>\n",
              "      <td>17.592011</td>\n",
              "      <td>0.487096</td>\n",
              "      <td>6.484404</td>\n",
              "      <td>5.779163</td>\n",
              "      <td>2.749855</td>\n",
              "      <td>8.049808</td>\n",
              "      <td>8.397873</td>\n",
              "      <td>12.354172</td>\n",
              "      <td>4.189393</td>\n",
              "      <td>15.995175</td>\n",
              "      <td>0.961579</td>\n",
              "      <td>0.754286</td>\n",
              "      <td>2.192222</td>\n",
              "      <td>0.957476</td>\n",
              "    </tr>\n",
              "    <tr>\n",
              "      <th>min</th>\n",
              "      <td>1.000000</td>\n",
              "      <td>1.000000</td>\n",
              "      <td>0.000000</td>\n",
              "      <td>69.500000</td>\n",
              "      <td>63.600000</td>\n",
              "      <td>-8.760000</td>\n",
              "      <td>-17.170000</td>\n",
              "      <td>-31.428000</td>\n",
              "      <td>-33.864000</td>\n",
              "      <td>1.000000</td>\n",
              "      <td>8.000000</td>\n",
              "      <td>0.000000</td>\n",
              "      <td>0.000000</td>\n",
              "      <td>1.000000</td>\n",
              "      <td>0.000000</td>\n",
              "    </tr>\n",
              "    <tr>\n",
              "      <th>25%</th>\n",
              "      <td>851.250000</td>\n",
              "      <td>14.000000</td>\n",
              "      <td>0.000000</td>\n",
              "      <td>85.000000</td>\n",
              "      <td>78.500000</td>\n",
              "      <td>-2.270000</td>\n",
              "      <td>1.140000</td>\n",
              "      <td>-8.064000</td>\n",
              "      <td>21.012000</td>\n",
              "      <td>5.000000</td>\n",
              "      <td>32.000000</td>\n",
              "      <td>0.000000</td>\n",
              "      <td>0.000000</td>\n",
              "      <td>2.000000</td>\n",
              "      <td>1.000000</td>\n",
              "    </tr>\n",
              "    <tr>\n",
              "      <th>50%</th>\n",
              "      <td>1701.500000</td>\n",
              "      <td>28.000000</td>\n",
              "      <td>1.000000</td>\n",
              "      <td>91.700000</td>\n",
              "      <td>83.900000</td>\n",
              "      <td>-0.290000</td>\n",
              "      <td>10.320000</td>\n",
              "      <td>-2.760000</td>\n",
              "      <td>28.980000</td>\n",
              "      <td>11.000000</td>\n",
              "      <td>43.000000</td>\n",
              "      <td>1.000000</td>\n",
              "      <td>1.000000</td>\n",
              "      <td>4.000000</td>\n",
              "      <td>2.000000</td>\n",
              "    </tr>\n",
              "    <tr>\n",
              "      <th>75%</th>\n",
              "      <td>2551.750000</td>\n",
              "      <td>44.000000</td>\n",
              "      <td>1.000000</td>\n",
              "      <td>92.800000</td>\n",
              "      <td>85.200000</td>\n",
              "      <td>1.180000</td>\n",
              "      <td>12.590000</td>\n",
              "      <td>3.114000</td>\n",
              "      <td>36.960000</td>\n",
              "      <td>13.000000</td>\n",
              "      <td>55.000000</td>\n",
              "      <td>1.000000</td>\n",
              "      <td>2.000000</td>\n",
              "      <td>6.000000</td>\n",
              "      <td>3.000000</td>\n",
              "    </tr>\n",
              "    <tr>\n",
              "      <th>max</th>\n",
              "      <td>3402.000000</td>\n",
              "      <td>74.000000</td>\n",
              "      <td>1.000000</td>\n",
              "      <td>95.600000</td>\n",
              "      <td>88.100000</td>\n",
              "      <td>11.330000</td>\n",
              "      <td>17.850000</td>\n",
              "      <td>29.880000</td>\n",
              "      <td>67.944000</td>\n",
              "      <td>14.000000</td>\n",
              "      <td>94.000000</td>\n",
              "      <td>3.000000</td>\n",
              "      <td>2.000000</td>\n",
              "      <td>9.000000</td>\n",
              "      <td>3.000000</td>\n",
              "    </tr>\n",
              "  </tbody>\n",
              "</table>\n",
              "</div>"
            ],
            "text/plain": [
              "        Unnamed: 0  BatterNumber  ...       Inning         Outs\n",
              "count  3402.000000   3402.000000  ...  3402.000000  3402.000000\n",
              "mean   1701.500000     29.277190  ...     4.092887     1.735450\n",
              "std     982.217135     17.592011  ...     2.192222     0.957476\n",
              "min       1.000000      1.000000  ...     1.000000     0.000000\n",
              "25%     851.250000     14.000000  ...     2.000000     1.000000\n",
              "50%    1701.500000     28.000000  ...     4.000000     2.000000\n",
              "75%    2551.750000     44.000000  ...     6.000000     3.000000\n",
              "max    3402.000000     74.000000  ...     9.000000     3.000000\n",
              "\n",
              "[8 rows x 15 columns]"
            ]
          },
          "metadata": {},
          "execution_count": 5
        }
      ]
    },
    {
      "cell_type": "markdown",
      "source": [
        "### **Exploratory Data Anaysis**\n",
        "Now that the data is cleaned and ready to be analyzed, we can now use Exploratory Data Analysis (EDA) to generate actionable insights. The following section details us picking a part the data to find ways Clayton can increase his pitching statistics."
      ],
      "metadata": {
        "id": "dQJ4S2ciA84S"
      }
    },
    {
      "cell_type": "code",
      "source": [
        "good_pitches = sum(data.Result)/len(data.Result)\n",
        "good_pitches = round(good_pitches*100,2)\n",
        "print(str(good_pitches) + \"% of the pitches thrown by Clayton Kershaw resulted in an out or strike.\")"
      ],
      "metadata": {
        "colab": {
          "base_uri": "https://localhost:8080/"
        },
        "id": "5ylz8MFYKFML",
        "outputId": "279e0d1b-67ab-4642-9a35-9706f049e888"
      },
      "execution_count": null,
      "outputs": [
        {
          "output_type": "stream",
          "name": "stdout",
          "text": [
            "61.32% of the pitches thrown by Clayton Kershaw resulted in an out or strike.\n"
          ]
        }
      ]
    },
    {
      "cell_type": "markdown",
      "source": [
        "This first statistics show that 61.32% of Clayton's pitches resulted in an out or strike which gives us an initial read on his performance. The code above is a sum formula that takes the average of all his results. "
      ],
      "metadata": {
        "id": "4tjoR8plnUG-"
      }
    },
    {
      "cell_type": "code",
      "source": [
        "#Python's MatPlotLib function to create a histogram and using bins to denote the inning\n",
        "plt.hist(data.Inning, bins=[1,2,3,4,5,6,7,8,9])\n",
        "plt.xlabel('Inning')\n",
        "plt.ylabel('Frequency')\n",
        "plt.show()"
      ],
      "metadata": {
        "colab": {
          "base_uri": "https://localhost:8080/",
          "height": 279
        },
        "id": "ZeTsvvG8_OMu",
        "outputId": "ff3cbcd6-b3ed-402b-d0d1-6b6711588fb3"
      },
      "execution_count": null,
      "outputs": [
        {
          "output_type": "display_data",
          "data": {
            "image/png": "[encoded data removed]",
            "text/plain": [
              "<Figure size 432x288 with 1 Axes>"
            ]
          },
          "metadata": {
            "needs_background": "light"
          }
        }
      ]
    },
    {
      "cell_type": "markdown",
      "source": [
        "The histogram shows the inning of the game and the frequency of the pitches Kershaw threw. From this we can see that Kershaw threw the majority of his pitches between the third and fourth inning and his least pitches in the eighth and ninth. Additionally, from the fifth inning, we can see that his pitching decreases."
      ],
      "metadata": {
        "id": "JPlw0uYmud8p"
      }
    },
    {
      "cell_type": "code",
      "source": [
        "s = sns.countplot(x = \"Zone\", data = data)"
      ],
      "metadata": {
        "id": "0RaRI4DnEAeX",
        "colab": {
          "base_uri": "https://localhost:8080/",
          "height": 279
        },
        "outputId": "07df04d4-bd05-448c-a098-9508b76e45e4"
      },
      "execution_count": null,
      "outputs": [
        {
          "output_type": "display_data",
          "data": {
            "image/png": "[encoded data removed]",
            "text/plain": [
              "<Figure size 432x288 with 1 Axes>"
            ]
          },
          "metadata": {
            "needs_background": "light"
          }
        }
      ]
    },
    {
      "cell_type": "markdown",
      "source": [
        "Zones 1-9 represents the strike zone and zones 11-14 are outside of the strike zone. The majority of his pitches are thrown outside of the strike zone, meaning the pitch is a ball. This is not good since 4 balls will lead to a walk and the batter will advance to first base.\n"
      ],
      "metadata": {
        "id": "hIhDPtqU_LXH"
      }
    },
    {
      "cell_type": "code",
      "source": [
        "#MatPlotLib's function to create boxplots to show a distrubution of results.\n",
        "sns.boxplot('Outs', data= data)"
      ],
      "metadata": {
        "colab": {
          "base_uri": "https://localhost:8080/",
          "height": 351
        },
        "id": "sAh6IpEmYfN-",
        "outputId": "7edcba22-da83-4990-b444-2b8d6cf210a1"
      },
      "execution_count": null,
      "outputs": [
        {
          "output_type": "stream",
          "name": "stderr",
          "text": [
            "/usr/local/lib/python3.7/dist-packages/seaborn/_decorators.py:43: FutureWarning: Pass the following variable as a keyword arg: x. From version 0.12, the only valid positional argument will be `data`, and passing other arguments without an explicit keyword will result in an error or misinterpretation.\n",
            "  FutureWarning\n"
          ]
        },
        {
          "output_type": "execute_result",
          "data": {
            "text/plain": [
              "<matplotlib.axes._subplots.AxesSubplot at 0x7f691550b590>"
            ]
          },
          "metadata": {},
          "execution_count": 9
        },
        {
          "output_type": "display_data",
          "data": {
            "image/png": "[encoded data removed]",
            "text/plain": [
              "<Figure size 432x288 with 1 Axes>"
            ]
          },
          "metadata": {
            "needs_background": "light"
          }
        }
      ]
    },
    {
      "cell_type": "markdown",
      "source": [
        "From the boxplot, we can see the five number distribution for the number of outs. It shows the min and the max for outs, with 0 being the min and 3 being the max."
      ],
      "metadata": {
        "id": "SS9XKSJ9-slK"
      }
    },
    {
      "cell_type": "code",
      "source": [
        "#MatPlotLib's function to create boxplots to show a distrubution of results.\n",
        "sns.boxplot('EndSpeed', data= data)"
      ],
      "metadata": {
        "colab": {
          "base_uri": "https://localhost:8080/",
          "height": 351
        },
        "id": "k9uZiiiaYC39",
        "outputId": "f590dba1-a06e-4b09-90fc-ed14a58cfc0a"
      },
      "execution_count": null,
      "outputs": [
        {
          "output_type": "stream",
          "name": "stderr",
          "text": [
            "/usr/local/lib/python3.7/dist-packages/seaborn/_decorators.py:43: FutureWarning: Pass the following variable as a keyword arg: x. From version 0.12, the only valid positional argument will be `data`, and passing other arguments without an explicit keyword will result in an error or misinterpretation.\n",
            "  FutureWarning\n"
          ]
        },
        {
          "output_type": "execute_result",
          "data": {
            "text/plain": [
              "<matplotlib.axes._subplots.AxesSubplot at 0x7f691549a710>"
            ]
          },
          "metadata": {},
          "execution_count": 10
        },
        {
          "output_type": "display_data",
          "data": {
            "image/png": "[encoded data removed]",
            "text/plain": [
              "<Figure size 432x288 with 1 Axes>"
            ]
          },
          "metadata": {
            "needs_background": "light"
          }
        }
      ]
    },
    {
      "cell_type": "markdown",
      "source": [
        "From this boxplot, we can see that the mean end speed for Kershaw’s pitches is between 83 and 85 mph. The min for this is 65 mph and the max is 90 mph. Again, these numbers are important for this project as they provide a baseline for understanding how fast Kershaw throws. "
      ],
      "metadata": {
        "id": "CQ65ZsDL-xfN"
      }
    },
    {
      "cell_type": "code",
      "source": [
        "#MatPlotLib's function to create boxplots to show a distrubution of results.\n",
        "sns.boxplot('StartSpeed', data= data)"
      ],
      "metadata": {
        "colab": {
          "base_uri": "https://localhost:8080/",
          "height": 351
        },
        "id": "5aAei-t_XuTp",
        "outputId": "009d8061-a8a7-4669-edfd-b7f34e5c2255"
      },
      "execution_count": null,
      "outputs": [
        {
          "output_type": "stream",
          "name": "stderr",
          "text": [
            "/usr/local/lib/python3.7/dist-packages/seaborn/_decorators.py:43: FutureWarning: Pass the following variable as a keyword arg: x. From version 0.12, the only valid positional argument will be `data`, and passing other arguments without an explicit keyword will result in an error or misinterpretation.\n",
            "  FutureWarning\n"
          ]
        },
        {
          "output_type": "execute_result",
          "data": {
            "text/plain": [
              "<matplotlib.axes._subplots.AxesSubplot at 0x7f69154055d0>"
            ]
          },
          "metadata": {},
          "execution_count": 11
        },
        {
          "output_type": "display_data",
          "data": {
            "image/png": "[encoded data removed]",
            "text/plain": [
              "<Figure size 432x288 with 1 Axes>"
            ]
          },
          "metadata": {
            "needs_background": "light"
          }
        }
      ]
    },
    {
      "cell_type": "markdown",
      "source": [
        "From this boxplot, we can see that the mean start speed for Clayton Kershaw is between 93 and 95 mph. The min for this is 70 and the max is 100.\n"
      ],
      "metadata": {
        "id": "-POXIrbN-34A"
      }
    },
    {
      "cell_type": "code",
      "source": [
        "plt.hist(data.StartSpeed, bins = 100)\n",
        "plt.ylim(0,)\n",
        "plt.xlabel('Speed')\n",
        "plt.ylabel('Frequency')\n",
        "plt.show()"
      ],
      "metadata": {
        "colab": {
          "base_uri": "https://localhost:8080/",
          "height": 279
        },
        "id": "wXDctPFN8XRC",
        "outputId": "75f72ebb-4446-41d5-e8c0-b1cdf97a6af7"
      },
      "execution_count": null,
      "outputs": [
        {
          "output_type": "display_data",
          "data": {
            "image/png": "[encoded data removed]",
            "text/plain": [
              "<Figure size 432x288 with 1 Axes>"
            ]
          },
          "metadata": {
            "needs_background": "light"
          }
        }
      ]
    },
    {
      "cell_type": "code",
      "source": [
        "plt.scatter(data.BatterNumber, data.StartSpeed)\n",
        "plt.ylabel('Start Speed')\n",
        "plt.xlabel('Batter Number')\n",
        "m, b = np.polyfit(data.BatterNumber, data.StartSpeed, 1)\n",
        "plt.plot(data.BatterNumber, m*data.BatterNumber+b)\n",
        "plt.show()"
      ],
      "metadata": {
        "colab": {
          "base_uri": "https://localhost:8080/",
          "height": 279
        },
        "id": "oJDWVW7NDSen",
        "outputId": "f2eb749d-53bf-4c57-acef-a5f5ed59ce5d"
      },
      "execution_count": null,
      "outputs": [
        {
          "output_type": "display_data",
          "data": {
            "image/png": "[encoded data removed]",
            "text/plain": [
              "<Figure size 432x288 with 1 Axes>"
            ]
          },
          "metadata": {
            "needs_background": "light"
          }
        }
      ]
    },
    {
      "cell_type": "markdown",
      "source": [
        "Using our references, we found that baseball had an average of 146 pitches per game. This graph illustrates as the batter numbers increase, the end speed gets slower. This is a relevant finding as it shows that Kershaw gets tired over time so his pitches get slower.\n"
      ],
      "metadata": {
        "id": "vK4wGrA_F5LO"
      }
    },
    {
      "cell_type": "code",
      "source": [
        "sns.relplot(x= \"Nasty\", y = \"StartSpeed\", kind = \"line\", data=data)"
      ],
      "metadata": {
        "colab": {
          "base_uri": "https://localhost:8080/",
          "height": 386
        },
        "id": "x4KuBRWjCm0o",
        "outputId": "9a546154-4a35-4754-efb5-7868a6c36dd8"
      },
      "execution_count": null,
      "outputs": [
        {
          "output_type": "execute_result",
          "data": {
            "text/plain": [
              "<seaborn.axisgrid.FacetGrid at 0x7f690b7ba790>"
            ]
          },
          "metadata": {},
          "execution_count": 14
        },
        {
          "output_type": "display_data",
          "data": {
            "image/png": "[encoded data removed]",
            "text/plain": [
              "<Figure size 360x360 with 1 Axes>"
            ]
          },
          "metadata": {
            "needs_background": "light"
          }
        }
      ]
    },
    {
      "cell_type": "markdown",
      "source": [
        "In the line plot, we can see that his fastest pitches are not necessarily the ones with the most spin.\n"
      ],
      "metadata": {
        "id": "1dzHClHHF_op"
      }
    },
    {
      "cell_type": "code",
      "source": [
        "plt.scatter(data.StartSpeed, data.Nasty)\n",
        "plt.xlabel('Speed')\n",
        "plt.ylabel('Nasty')\n",
        "m, b = np.polyfit(data.StartSpeed, data.Nasty, 1)\n",
        "plt.plot(data.StartSpeed, m*data.StartSpeed+b)\n",
        "plt.show()"
      ],
      "metadata": {
        "id": "5eRkcuzRBeDN",
        "colab": {
          "base_uri": "https://localhost:8080/",
          "height": 279
        },
        "outputId": "3534c1fb-c353-4c72-daee-5b952bef75b2"
      },
      "execution_count": null,
      "outputs": [
        {
          "output_type": "display_data",
          "data": {
            "image/png": "[encoded data removed]",
            "text/plain": [
              "<Figure size 432x288 with 1 Axes>"
            ]
          },
          "metadata": {
            "needs_background": "light"
          }
        }
      ]
    },
    {
      "cell_type": "markdown",
      "source": [
        "In the scatterplot, we can see that as the speed gets faster, the nasty score increases, but not by much. This is a weak correlation as it signifying that the fastest speeds are not necessarily the most difficult pitches. "
      ],
      "metadata": {
        "id": "fHna8XggGZv3"
      }
    },
    {
      "cell_type": "code",
      "source": [
        "sns.countplot(x = \"PitchType\", data = data)"
      ],
      "metadata": {
        "id": "MiuJAv2rDzMi",
        "colab": {
          "base_uri": "https://localhost:8080/",
          "height": 296
        },
        "outputId": "1943852c-3b7c-4e90-b4d2-5c240e1d9ce2"
      },
      "execution_count": null,
      "outputs": [
        {
          "output_type": "execute_result",
          "data": {
            "text/plain": [
              "<matplotlib.axes._subplots.AxesSubplot at 0x7f690b736f90>"
            ]
          },
          "metadata": {},
          "execution_count": 16
        },
        {
          "output_type": "display_data",
          "data": {
            "image/png": "[encoded data removed]",
            "text/plain": [
              "<Figure size 432x288 with 1 Axes>"
            ]
          },
          "metadata": {
            "needs_background": "light"
          }
        }
      ]
    },
    {
      "cell_type": "markdown",
      "source": [
        "The most common pitch is fastball with over 2,000, followed by slider, then curveball and least common is changeup. "
      ],
      "metadata": {
        "id": "12G5Wefp-95u"
      }
    },
    {
      "cell_type": "code",
      "source": [
        "#Bar chart showing relationship between pitch type and expected outcome (0: negative outcome, 1: positive outcome)\n",
        "df = pd.DataFrame(data, columns = ['Result', 'PitchType'])\n",
        "CHres = df.loc[df['PitchType'] == \"CH\" ]\n",
        "CHmean = mean(CHres['Result'])\n",
        "CUres = df.loc[df['PitchType'] == \"CU\"]\n",
        "CUmean = mean(CUres['Result'])\n",
        "SLres = df.loc[df['PitchType'] == \"SL\"]\n",
        "SLmean = mean(SLres['Result'])\n",
        "FFres = df.loc[df['PitchType'] == \"FF\"]\n",
        "FFmean = mean(FFres['Result'])\n",
        "xdata = [CHmean, CUmean, SLmean, FFmean]\n",
        "names = ['Changeup','Curveball','Slider','Fastball']\n",
        "print(xdata)\n",
        "plt.bar(names, xdata)\n",
        "plt.xticks(names)\n",
        "plt.yticks(np.linspace(0,1,num=9)) \n",
        "plt.xlabel('Pitch Type')\n",
        "plt.ylabel('Expected Outcome')\n",
        "plt.show();\n"
      ],
      "metadata": {
        "colab": {
          "base_uri": "https://localhost:8080/",
          "height": 300
        },
        "id": "XU2sG94-A0O0",
        "outputId": "ca2d9339-6792-44ce-e89a-062f6ebb8617"
      },
      "execution_count": null,
      "outputs": [
        {
          "output_type": "stream",
          "name": "stdout",
          "text": [
            "[0.37349397590361444, 0.5317647058823529, 0.6235011990407674, 0.6354368932038835]\n"
          ]
        },
        {
          "output_type": "display_data",
          "data": {
            "image/png": "[encoded data removed]",
            "text/plain": [
              "<Figure size 432x288 with 1 Axes>"
            ]
          },
          "metadata": {
            "needs_background": "light"
          }
        }
      ]
    },
    {
      "cell_type": "markdown",
      "source": [
        "In the bar chart above, we see that pitching sliders and fastballs are more likely to result in a positive outcome, while pitching a changeup is the least likely to result in a positive outcome. "
      ],
      "metadata": {
        "id": "7lfQViZAEe3V"
      }
    },
    {
      "cell_type": "code",
      "source": [
        "home = data[data['InningSide'] == \"bottom\"] \n",
        "away = data[data['InningSide'] == \"top\"]\n",
        "grounds_speed = scipy.stats.ttest_ind(home.StartSpeed,away.StartSpeed)\n",
        "nasty_speed = scipy.stats.ttest_ind(home.Nasty,away.Nasty)\n",
        "result_speed = scipy.stats.ttest_ind(home.Result,away.Result)\n",
        "print(grounds_speed)\n",
        "print(nasty_speed)\n",
        "print(result_speed)"
      ],
      "metadata": {
        "colab": {
          "base_uri": "https://localhost:8080/"
        },
        "id": "VZcLzgd1N3RM",
        "outputId": "f35eb1bb-add6-4698-9da0-8efc6c983260"
      },
      "execution_count": null,
      "outputs": [
        {
          "output_type": "stream",
          "name": "stdout",
          "text": [
            "Ttest_indResult(statistic=1.3298000227710676, pvalue=0.18367337199130768)\n",
            "Ttest_indResult(statistic=0.3506468479276392, pvalue=0.7258750285680651)\n",
            "Ttest_indResult(statistic=-0.4120737334255523, pvalue=0.6803113579227663)\n"
          ]
        }
      ]
    },
    {
      "cell_type": "markdown",
      "source": [
        "### **Machine Learning**\n",
        "\n",
        "In this section, we are using machine learning to predict the outcome of the pitch Kershaw threw. We are using machine learning and logistic regressions to predict if the outcome of the pitch is a strike or foul. "
      ],
      "metadata": {
        "id": "34eGu1heGF0q"
      }
    },
    {
      "cell_type": "markdown",
      "source": [
        "**Logistic Regressison**"
      ],
      "metadata": {
        "id": "bHnS9twdC5Lk"
      }
    },
    {
      "cell_type": "code",
      "source": [
        "X = data[[\"StartSpeed\", \"Nasty\", \"BatterNumber\"]].values\n",
        "Y = data['Result'].values.reshape(-1,1)"
      ],
      "metadata": {
        "id": "Fv4twBfRFPCy"
      },
      "execution_count": null,
      "outputs": []
    },
    {
      "cell_type": "code",
      "source": [
        "onehot_encoder = OneHotEncoder(sparse = False)\n",
        "#X = onehot_encoder.fit_transform(X)"
      ],
      "metadata": {
        "id": "mjugi7KCFfE1"
      },
      "execution_count": null,
      "outputs": []
    },
    {
      "cell_type": "code",
      "source": [
        "X_train, X_test, Y_train, Y_test = train_test_split(X, Y, test_size = 0.3, random_state=42)\n",
        "X_train, X_val, Y_train, Y_val= train_test_split(X_train, Y_train, test_size= 0.35, random_state=42)"
      ],
      "metadata": {
        "id": "2vZtLfnWFo1B"
      },
      "execution_count": null,
      "outputs": []
    },
    {
      "cell_type": "code",
      "source": [
        "model = LogisticRegression()\n",
        "model.fit(X_train, Y_train)"
      ],
      "metadata": {
        "id": "pfEdVuhCFw8A",
        "colab": {
          "base_uri": "https://localhost:8080/"
        },
        "outputId": "a153433e-2951-4f1a-998f-5a88d10c7e6b"
      },
      "execution_count": null,
      "outputs": [
        {
          "output_type": "stream",
          "name": "stderr",
          "text": [
            "/usr/local/lib/python3.7/dist-packages/sklearn/utils/validation.py:985: DataConversionWarning: A column-vector y was passed when a 1d array was expected. Please change the shape of y to (n_samples, ), for example using ravel().\n",
            "  y = column_or_1d(y, warn=True)\n"
          ]
        },
        {
          "output_type": "execute_result",
          "data": {
            "text/plain": [
              "LogisticRegression()"
            ]
          },
          "metadata": {},
          "execution_count": 24
        }
      ]
    },
    {
      "cell_type": "code",
      "source": [
        "# Use the fitted model to predict the y variables from the trained part of the x data\n",
        "y_hat = model.predict(X_train)\n",
        "#Get the accuracy of the model\n",
        "accuracy1 = accuracy_score(Y_train, y_hat)\n",
        "print('The accuracy of this model using training is %.5f' % (accuracy1))\n",
        "\n",
        "# Predict the X_val data on to the y data\n",
        "yval1= model.predict(X_val)\n",
        "#Get the accuracy of this prediction\n",
        "accuracy2 = accuracy_score(Y_val, yval1)\n",
        "print('The accuracy of this model using validation is %.5f' % (accuracy2))"
      ],
      "metadata": {
        "id": "bwZ_lK7sGEaD",
        "colab": {
          "base_uri": "https://localhost:8080/"
        },
        "outputId": "5f97788c-a3ca-47f5-9ebb-035882e1f94e"
      },
      "execution_count": null,
      "outputs": [
        {
          "output_type": "stream",
          "name": "stdout",
          "text": [
            "The accuracy of this model using training is 0.59793\n",
            "The accuracy of this model using validation is 0.65228\n"
          ]
        }
      ]
    },
    {
      "cell_type": "markdown",
      "source": [
        "**Neural Network**\n"
      ],
      "metadata": {
        "id": "1myOoOQ7zUPY"
      }
    },
    {
      "cell_type": "code",
      "source": [
        "label_encoder = LabelEncoder()\n",
        "Y = label_encoder.fit_transform(Y)\n",
        "#X = X.to_numpy()\n",
        "from sklearn.preprocessing import StandardScaler\n",
        "sc = StandardScaler()\n",
        "#X = sc.fit_transform(X)\n",
        "X_train, X_test, Y_train, Y_test = train_test_split(X, Y, test_size = 0.3, random_state=42)\n",
        "X_train, X_val, Y_train, Y_val= train_test_split(X_train, Y_train, test_size= 0.35, random_state=42)"
      ],
      "metadata": {
        "id": "jLHMZyhyqKhW",
        "colab": {
          "base_uri": "https://localhost:8080/"
        },
        "outputId": "d83846d2-a324-4c58-abff-c882092ac2c1"
      },
      "execution_count": null,
      "outputs": [
        {
          "output_type": "stream",
          "name": "stderr",
          "text": [
            "/usr/local/lib/python3.7/dist-packages/sklearn/preprocessing/_label.py:115: DataConversionWarning: A column-vector y was passed when a 1d array was expected. Please change the shape of y to (n_samples, ), for example using ravel().\n",
            "  y = column_or_1d(y, warn=True)\n"
          ]
        }
      ]
    },
    {
      "cell_type": "code",
      "source": [
        "from keras.models import Sequential\n",
        "from keras.layers import Dense\n",
        "from keras import regularizers\n",
        "\n",
        "model = Sequential()\n",
        "model.add(Dense(300, input_dim = 3, activation = 'relu'))\n",
        "model.add(Dense(200, activation = 'relu'))\n",
        "model.add(Dense(100, activation = 'relu'))\n",
        "model.add(Dense(100, activation = 'relu'))\n",
        "model.add(Dense(100, activation = 'relu'))\n",
        "model.add(Dense(100, activation = 'relu'))\n",
        "model.add(Dense(100, activation = 'relu'))\n",
        "model.add(Dense(100, activation = 'relu'))\n",
        "model.add(Dense(3, activation = 'softmax'))\n",
        "\n",
        "model.compile(loss = 'sparse_categorical_crossentropy', optimizer = 'sgd', metrics = ['accuracy'])\n",
        "history = model.fit(X_train, Y_train, epochs = 50, batch_size = 2, validation_data = (X_val, Y_val))\n",
        "history.params\n",
        "history.history.keys()"
      ],
      "metadata": {
        "id": "6nepZvXxrFls",
        "colab": {
          "base_uri": "https://localhost:8080/"
        },
        "outputId": "39960775-80e5-4bff-f295-ca5fb8c1c91f"
      },
      "execution_count": null,
      "outputs": [
        {
          "output_type": "stream",
          "name": "stdout",
          "text": [
            "Epoch 1/50\n",
            "774/774 [==============================] - 8s 8ms/step - loss: 0.7143 - accuracy: 0.5824 - val_loss: 0.6524 - val_accuracy: 0.6523\n",
            "Epoch 2/50\n",
            "774/774 [==============================] - 4s 5ms/step - loss: 0.6910 - accuracy: 0.5837 - val_loss: 0.6638 - val_accuracy: 0.6523\n",
            "Epoch 3/50\n",
            "774/774 [==============================] - 2s 3ms/step - loss: 0.6873 - accuracy: 0.5895 - val_loss: 0.6807 - val_accuracy: 0.6607\n",
            "Epoch 4/50\n",
            "774/774 [==============================] - 2s 3ms/step - loss: 0.6812 - accuracy: 0.5953 - val_loss: 0.6576 - val_accuracy: 0.6523\n",
            "Epoch 5/50\n",
            "774/774 [==============================] - 2s 3ms/step - loss: 0.6833 - accuracy: 0.5869 - val_loss: 0.6896 - val_accuracy: 0.5995\n",
            "Epoch 6/50\n",
            "774/774 [==============================] - 2s 3ms/step - loss: 0.6807 - accuracy: 0.5921 - val_loss: 0.6360 - val_accuracy: 0.6643\n",
            "Epoch 7/50\n",
            "774/774 [==============================] - 2s 3ms/step - loss: 0.6811 - accuracy: 0.5805 - val_loss: 0.6366 - val_accuracy: 0.6571\n",
            "Epoch 8/50\n",
            "774/774 [==============================] - 2s 3ms/step - loss: 0.6751 - accuracy: 0.5979 - val_loss: 0.6479 - val_accuracy: 0.6523\n",
            "Epoch 9/50\n",
            "774/774 [==============================] - 2s 3ms/step - loss: 0.6752 - accuracy: 0.5953 - val_loss: 0.6627 - val_accuracy: 0.6523\n",
            "Epoch 10/50\n",
            "774/774 [==============================] - 2s 3ms/step - loss: 0.6794 - accuracy: 0.5966 - val_loss: 0.6427 - val_accuracy: 0.6619\n",
            "Epoch 11/50\n",
            "774/774 [==============================] - 2s 3ms/step - loss: 0.6752 - accuracy: 0.5902 - val_loss: 0.7531 - val_accuracy: 0.4257\n",
            "Epoch 12/50\n",
            "774/774 [==============================] - 2s 3ms/step - loss: 0.6761 - accuracy: 0.6057 - val_loss: 0.6381 - val_accuracy: 0.6595\n",
            "Epoch 13/50\n",
            "774/774 [==============================] - 2s 3ms/step - loss: 0.6756 - accuracy: 0.5979 - val_loss: 0.6334 - val_accuracy: 0.6523\n",
            "Epoch 14/50\n",
            "774/774 [==============================] - 2s 3ms/step - loss: 0.6750 - accuracy: 0.5973 - val_loss: 0.6417 - val_accuracy: 0.6619\n",
            "Epoch 15/50\n",
            "774/774 [==============================] - 2s 3ms/step - loss: 0.6740 - accuracy: 0.5986 - val_loss: 0.6512 - val_accuracy: 0.6535\n",
            "Epoch 16/50\n",
            "774/774 [==============================] - 2s 3ms/step - loss: 0.6748 - accuracy: 0.5986 - val_loss: 0.6461 - val_accuracy: 0.6559\n",
            "Epoch 17/50\n",
            "774/774 [==============================] - 2s 3ms/step - loss: 0.6744 - accuracy: 0.6031 - val_loss: 0.6937 - val_accuracy: 0.5995\n",
            "Epoch 18/50\n",
            "774/774 [==============================] - 2s 3ms/step - loss: 0.6717 - accuracy: 0.6044 - val_loss: 0.6486 - val_accuracy: 0.6727\n",
            "Epoch 19/50\n",
            "774/774 [==============================] - 2s 3ms/step - loss: 0.6731 - accuracy: 0.5992 - val_loss: 0.6341 - val_accuracy: 0.6523\n",
            "Epoch 20/50\n",
            "774/774 [==============================] - 2s 3ms/step - loss: 0.6749 - accuracy: 0.6044 - val_loss: 0.6318 - val_accuracy: 0.6751\n",
            "Epoch 21/50\n",
            "774/774 [==============================] - 2s 3ms/step - loss: 0.6695 - accuracy: 0.6031 - val_loss: 0.6381 - val_accuracy: 0.6607\n",
            "Epoch 22/50\n",
            "774/774 [==============================] - 2s 3ms/step - loss: 0.6688 - accuracy: 0.6005 - val_loss: 0.6631 - val_accuracy: 0.6775\n",
            "Epoch 23/50\n",
            "774/774 [==============================] - 2s 3ms/step - loss: 0.6712 - accuracy: 0.6096 - val_loss: 0.7110 - val_accuracy: 0.5755\n",
            "Epoch 24/50\n",
            "774/774 [==============================] - 2s 3ms/step - loss: 0.6721 - accuracy: 0.6102 - val_loss: 0.6373 - val_accuracy: 0.6643\n",
            "Epoch 25/50\n",
            "774/774 [==============================] - 2s 3ms/step - loss: 0.6704 - accuracy: 0.6134 - val_loss: 0.6346 - val_accuracy: 0.6523\n",
            "Epoch 26/50\n",
            "774/774 [==============================] - 2s 3ms/step - loss: 0.6690 - accuracy: 0.6076 - val_loss: 0.6433 - val_accuracy: 0.6463\n",
            "Epoch 27/50\n",
            "774/774 [==============================] - 2s 3ms/step - loss: 0.6682 - accuracy: 0.6186 - val_loss: 0.6332 - val_accuracy: 0.6571\n",
            "Epoch 28/50\n",
            "774/774 [==============================] - 2s 3ms/step - loss: 0.6692 - accuracy: 0.5992 - val_loss: 0.6550 - val_accuracy: 0.6475\n",
            "Epoch 29/50\n",
            "774/774 [==============================] - 2s 3ms/step - loss: 0.6702 - accuracy: 0.6109 - val_loss: 0.6606 - val_accuracy: 0.6187\n",
            "Epoch 30/50\n",
            "774/774 [==============================] - 2s 3ms/step - loss: 0.6702 - accuracy: 0.6050 - val_loss: 0.6373 - val_accuracy: 0.6667\n",
            "Epoch 31/50\n",
            "774/774 [==============================] - 2s 3ms/step - loss: 0.6668 - accuracy: 0.6057 - val_loss: 0.6320 - val_accuracy: 0.6583\n",
            "Epoch 32/50\n",
            "774/774 [==============================] - 2s 3ms/step - loss: 0.6690 - accuracy: 0.6089 - val_loss: 0.6728 - val_accuracy: 0.6079\n",
            "Epoch 33/50\n",
            "774/774 [==============================] - 2s 3ms/step - loss: 0.6692 - accuracy: 0.6096 - val_loss: 0.6412 - val_accuracy: 0.6415\n",
            "Epoch 34/50\n",
            "774/774 [==============================] - 2s 3ms/step - loss: 0.6678 - accuracy: 0.6025 - val_loss: 0.6573 - val_accuracy: 0.6391\n",
            "Epoch 35/50\n",
            "774/774 [==============================] - 2s 3ms/step - loss: 0.6686 - accuracy: 0.5986 - val_loss: 0.6426 - val_accuracy: 0.6415\n",
            "Epoch 36/50\n",
            "774/774 [==============================] - 2s 3ms/step - loss: 0.6703 - accuracy: 0.6096 - val_loss: 0.6383 - val_accuracy: 0.6595\n",
            "Epoch 37/50\n",
            "774/774 [==============================] - 2s 3ms/step - loss: 0.6656 - accuracy: 0.6128 - val_loss: 0.6445 - val_accuracy: 0.6427\n",
            "Epoch 38/50\n",
            "774/774 [==============================] - 2s 3ms/step - loss: 0.6664 - accuracy: 0.6122 - val_loss: 0.6360 - val_accuracy: 0.6595\n",
            "Epoch 39/50\n",
            "774/774 [==============================] - 2s 3ms/step - loss: 0.6697 - accuracy: 0.6050 - val_loss: 0.6524 - val_accuracy: 0.6463\n",
            "Epoch 40/50\n",
            "774/774 [==============================] - 2s 3ms/step - loss: 0.6675 - accuracy: 0.6102 - val_loss: 0.6747 - val_accuracy: 0.6571\n",
            "Epoch 41/50\n",
            "774/774 [==============================] - 4s 5ms/step - loss: 0.6707 - accuracy: 0.5986 - val_loss: 0.6423 - val_accuracy: 0.6655\n",
            "Epoch 42/50\n",
            "774/774 [==============================] - 3s 4ms/step - loss: 0.6690 - accuracy: 0.6089 - val_loss: 0.6313 - val_accuracy: 0.6607\n",
            "Epoch 43/50\n",
            "774/774 [==============================] - 2s 3ms/step - loss: 0.6661 - accuracy: 0.6096 - val_loss: 0.6588 - val_accuracy: 0.6307\n",
            "Epoch 44/50\n",
            "774/774 [==============================] - 2s 3ms/step - loss: 0.6698 - accuracy: 0.6076 - val_loss: 0.6430 - val_accuracy: 0.6595\n",
            "Epoch 45/50\n",
            "774/774 [==============================] - 2s 3ms/step - loss: 0.6674 - accuracy: 0.6141 - val_loss: 0.6390 - val_accuracy: 0.6607\n",
            "Epoch 46/50\n",
            "774/774 [==============================] - 2s 3ms/step - loss: 0.6670 - accuracy: 0.6076 - val_loss: 0.6380 - val_accuracy: 0.6583\n",
            "Epoch 47/50\n",
            "774/774 [==============================] - 2s 3ms/step - loss: 0.6656 - accuracy: 0.6134 - val_loss: 0.6373 - val_accuracy: 0.6703\n",
            "Epoch 48/50\n",
            "774/774 [==============================] - 2s 3ms/step - loss: 0.6670 - accuracy: 0.6141 - val_loss: 0.6584 - val_accuracy: 0.6415\n",
            "Epoch 49/50\n",
            "774/774 [==============================] - 2s 3ms/step - loss: 0.6684 - accuracy: 0.6109 - val_loss: 0.6479 - val_accuracy: 0.6547\n",
            "Epoch 50/50\n",
            "774/774 [==============================] - 2s 3ms/step - loss: 0.6685 - accuracy: 0.6083 - val_loss: 0.6455 - val_accuracy: 0.6667\n"
          ]
        },
        {
          "output_type": "execute_result",
          "data": {
            "text/plain": [
              "dict_keys(['loss', 'accuracy', 'val_loss', 'val_accuracy'])"
            ]
          },
          "metadata": {},
          "execution_count": 27
        }
      ]
    },
    {
      "cell_type": "code",
      "source": [
        "pd.DataFrame(history.history).plot(figsize=(8, 5))\n",
        "plt.grid(True)\n",
        "plt.gca().set_ylim(0.5, .8)\n",
        "plt.show()"
      ],
      "metadata": {
        "colab": {
          "base_uri": "https://localhost:8080/",
          "height": 324
        },
        "id": "ZDGWa3_rz8Lv",
        "outputId": "d7d3811d-338e-4c8d-8bcd-da1b26426f84"
      },
      "execution_count": null,
      "outputs": [
        {
          "output_type": "display_data",
          "data": {
            "image/png": "[encoded data removed]",
            "text/plain": [
              "<Figure size 576x360 with 1 Axes>"
            ]
          },
          "metadata": {
            "needs_background": "light"
          }
        }
      ]
    },
    {
      "cell_type": "code",
      "source": [
        "model.summary()"
      ],
      "metadata": {
        "id": "-T8UFNoy5a6p",
        "colab": {
          "base_uri": "https://localhost:8080/"
        },
        "outputId": "e26c3a20-7a41-4f54-fb81-0e9c5dd243c2"
      },
      "execution_count": null,
      "outputs": [
        {
          "output_type": "stream",
          "name": "stdout",
          "text": [
            "Model: \"sequential\"\n",
            "_________________________________________________________________\n",
            " Layer (type)                Output Shape              Param #   \n",
            "=================================================================\n",
            " dense (Dense)               (None, 300)               1200      \n",
            "                                                                 \n",
            " dense_1 (Dense)             (None, 200)               60200     \n",
            "                                                                 \n",
            " dense_2 (Dense)             (None, 100)               20100     \n",
            "                                                                 \n",
            " dense_3 (Dense)             (None, 100)               10100     \n",
            "                                                                 \n",
            " dense_4 (Dense)             (None, 100)               10100     \n",
            "                                                                 \n",
            " dense_5 (Dense)             (None, 100)               10100     \n",
            "                                                                 \n",
            " dense_6 (Dense)             (None, 100)               10100     \n",
            "                                                                 \n",
            " dense_7 (Dense)             (None, 100)               10100     \n",
            "                                                                 \n",
            " dense_8 (Dense)             (None, 3)                 303       \n",
            "                                                                 \n",
            "=================================================================\n",
            "Total params: 132,303\n",
            "Trainable params: 132,303\n",
            "Non-trainable params: 0\n",
            "_________________________________________________________________\n"
          ]
        }
      ]
    },
    {
      "cell_type": "markdown",
      "source": [
        "## **Deployment and Conclusion**\n"
      ],
      "metadata": {
        "id": "3Wf79Vg6NVg0"
      }
    },
    {
      "cell_type": "markdown",
      "source": [
        "In this project, we used Clayton Kershaw’s 2013 Pitching Statistics to gain insight on ways he could increase his pitching speeds and outcomes. Through this project as well as our prior research, we can conclude that Kershaw is one of the best pitchers in the MLB. For example, from the boxplots that we created, we can see that Kershaw’s average start and end speeds were 85 to 93 mph. Compared to other players in the league who typically throw between 75-85 mph, these statistics are very high. This finding is relevant to our business understanding and findings as it we showed in our machine learning portion that pitches speed has a significant effect on the result of the pitch. According to The Complete Pitcher, Kershaw could increase his speed by increasing his pelvic and arm strength. So, focusing on Kershaw's pitch speed could help him to be the best pitcher possible.\n",
        "  \n",
        "Much of our exploratory data analysis gives background information regarding Kershaw's pitches. We can understand Kershaw's pitches and himself as a pitcher. For example, our histogram of the starting pitch speeds shows that there are three main buckets of speeds, which are dependent on the type of pitch he throws. Fastballs are going to take up the bucket with the highest mph, followed by changeups, followed by curveballs and sliders. We also have a count plot that shows how frequently Kershaw throws each type of pitch. A final example of how we used the EDA to further understand the data was by creating a scatterplot of Kershaw's pitch speeds as being dependent on how many batters he had faced in that game so far. There was a negative relationship between the two, which makes sense because as a game continues Kershaw will get more tired, so his speed will decrease.\n",
        " \n",
        "In our machine learning models, we chose three variables that we believed significantly contributed to a successful result. Speed, nastiness and batter number were the two variables that we chose, because we figured that the more speed and more spin a pitch has, the harder it will be for the batter, so the better for Kershaw.\n",
        "\n",
        "We first ran a logistic regression model, as the y variable, \"Result\" is a binary variable. When fitting our model in the logistic regression we obtained an accuracy that was somewhat accurate but could be improved. Therefore we also ran a neural network to attempt to gain more accurate results. Unfortunately, the accuracy didn't increase by much. This suggests that we should include more variables that have higher explanatory power to increase our accuracy and generate a better predictor as to how well Kershaw's pitches will be. In baseball analytics nowadays, there are always more available data that we can incorporate into our models to gain a higher accuracy score.\n",
        "\n",
        "The application of these findings to our business understanding and insight is that it shows that Clayton Kershaw could use these statistics and results to solidify and improve his pitching game. If he utilizes this, he could use his pitching strength and talent as leverage for signing his next contract and with his new team. He could also extend his baseball career to be longer than the average baseball player. This project also showed that there are numerous ways in which he can either improve or extend his success; whether that is throwing pitches every day or going to the gym, there are ways to do it. The limitation with this study is that these statistics are from 2013, which was 7 years ago. Since then, Kershaw has increased his pitches and has become even better than before. Some directions of future research for this study include analyzing other factors that could influence pitches, including body weight, height, location of the game, and nutrition.\n"
      ],
      "metadata": {
        "id": "VWjnEqgFYyFU"
      }
    },
    {
      "cell_type": "markdown",
      "source": [
        "## **References**"
      ],
      "metadata": {
        "id": "xNgIq55eC8uD"
      }
    },
    {
      "cell_type": "markdown",
      "source": [
        "http://www.thecompletepitcher.com/pitching_velocity.htm\n",
        "\n",
        "https://bleacherreport.com/articles/671695-aroldis-chapman-and-the-15-fastest-pitches-ever-recorded\n",
        "\n",
        "https://www.milb.com/news/gcs-173407668\n",
        "\n",
        "https://www.dummies.com/article/home-auto-hobbies/sports-recreation/baseball/what-you-need-to-know-to-follow-major-league-baseball-156840\n",
        "\n",
        "https://www.popsci.com/story/science/why-is-hitting-a-baseball-so-hard/\n",
        "\n",
        "https://www.espn.com/mlb/story/_/id/32754352/everything-need-know-mlb-looming-lockout"
      ],
      "metadata": {
        "id": "B3fO7Hu5Jeni"
      }
    },
    {
      "cell_type": "markdown",
      "source": [
        "### **Link To YouTube Video Explanation**\n",
        "https://www.youtube.com/watch?v=xVDP32wl_yE&feature=youtu.be"
      ],
      "metadata": {
        "id": "svMxnKpnFulT"
      }
    },
    {
      "cell_type": "markdown",
      "source": [
        "### **Link to Youtube Presentation**\n",
        "\n",
        "https://youtu.be/hdorrP-Kt0s"
      ],
      "metadata": {
        "id": "_31MWYdjwRwC"
      }
    }
  ]
}